{
 "cells": [
  {
   "cell_type": "markdown",
   "id": "55a09eeb-1410-451e-ad11-efa689b9a577",
   "metadata": {},
   "source": [
    "# llamaindex agents"
   ]
  },
  {
   "cell_type": "code",
   "execution_count": 40,
   "id": "fbb6c8f6-328f-4b7f-a497-a35454443590",
   "metadata": {},
   "outputs": [
    {
     "name": "stdout",
     "output_type": "stream",
     "text": [
      "Defaulting to user installation because normal site-packages is not writeable\n",
      "Requirement already satisfied: openai in /Users/wojciechnowak/Library/Python/3.9/lib/python/site-packages (1.40.2)\n",
      "Requirement already satisfied: anyio<5,>=3.5.0 in /Users/wojciechnowak/Library/Python/3.9/lib/python/site-packages (from openai) (4.3.0)\n",
      "Requirement already satisfied: distro<2,>=1.7.0 in /Users/wojciechnowak/Library/Python/3.9/lib/python/site-packages (from openai) (1.9.0)\n",
      "Requirement already satisfied: httpx<1,>=0.23.0 in /Users/wojciechnowak/Library/Python/3.9/lib/python/site-packages (from openai) (0.27.0)\n",
      "Requirement already satisfied: jiter<1,>=0.4.0 in /Users/wojciechnowak/Library/Python/3.9/lib/python/site-packages (from openai) (0.5.0)\n",
      "Requirement already satisfied: pydantic<3,>=1.9.0 in /Users/wojciechnowak/Library/Python/3.9/lib/python/site-packages (from openai) (2.8.2)\n",
      "Requirement already satisfied: sniffio in /Users/wojciechnowak/Library/Python/3.9/lib/python/site-packages (from openai) (1.3.1)\n",
      "Requirement already satisfied: tqdm>4 in /Users/wojciechnowak/Library/Python/3.9/lib/python/site-packages (from openai) (4.66.5)\n",
      "Requirement already satisfied: typing-extensions<5,>=4.11 in /Users/wojciechnowak/Library/Python/3.9/lib/python/site-packages (from openai) (4.11.0)\n",
      "Requirement already satisfied: idna>=2.8 in /Users/wojciechnowak/Library/Python/3.9/lib/python/site-packages (from anyio<5,>=3.5.0->openai) (3.7)\n",
      "Requirement already satisfied: exceptiongroup>=1.0.2 in /Users/wojciechnowak/Library/Python/3.9/lib/python/site-packages (from anyio<5,>=3.5.0->openai) (1.2.1)\n",
      "Requirement already satisfied: certifi in /Users/wojciechnowak/Library/Python/3.9/lib/python/site-packages (from httpx<1,>=0.23.0->openai) (2024.2.2)\n",
      "Requirement already satisfied: httpcore==1.* in /Users/wojciechnowak/Library/Python/3.9/lib/python/site-packages (from httpx<1,>=0.23.0->openai) (1.0.5)\n",
      "Requirement already satisfied: h11<0.15,>=0.13 in /Users/wojciechnowak/Library/Python/3.9/lib/python/site-packages (from httpcore==1.*->httpx<1,>=0.23.0->openai) (0.14.0)\n",
      "Requirement already satisfied: annotated-types>=0.4.0 in /Users/wojciechnowak/Library/Python/3.9/lib/python/site-packages (from pydantic<3,>=1.9.0->openai) (0.7.0)\n",
      "Requirement already satisfied: pydantic-core==2.20.1 in /Users/wojciechnowak/Library/Python/3.9/lib/python/site-packages (from pydantic<3,>=1.9.0->openai) (2.20.1)\n",
      "\n",
      "\u001b[1m[\u001b[0m\u001b[34;49mnotice\u001b[0m\u001b[1;39;49m]\u001b[0m\u001b[39;49m A new release of pip is available: \u001b[0m\u001b[31;49m24.0\u001b[0m\u001b[39;49m -> \u001b[0m\u001b[32;49m24.2\u001b[0m\n",
      "\u001b[1m[\u001b[0m\u001b[34;49mnotice\u001b[0m\u001b[1;39;49m]\u001b[0m\u001b[39;49m To update, run: \u001b[0m\u001b[32;49m/Library/Developer/CommandLineTools/usr/bin/python3 -m pip install --upgrade pip\u001b[0m\n",
      "Defaulting to user installation because normal site-packages is not writeable\n",
      "Requirement already satisfied: python-dotenv in /Users/wojciechnowak/Library/Python/3.9/lib/python/site-packages (1.0.1)\n",
      "\n",
      "\u001b[1m[\u001b[0m\u001b[34;49mnotice\u001b[0m\u001b[1;39;49m]\u001b[0m\u001b[39;49m A new release of pip is available: \u001b[0m\u001b[31;49m24.0\u001b[0m\u001b[39;49m -> \u001b[0m\u001b[32;49m24.2\u001b[0m\n",
      "\u001b[1m[\u001b[0m\u001b[34;49mnotice\u001b[0m\u001b[1;39;49m]\u001b[0m\u001b[39;49m To update, run: \u001b[0m\u001b[32;49m/Library/Developer/CommandLineTools/usr/bin/python3 -m pip install --upgrade pip\u001b[0m\n",
      "Defaulting to user installation because normal site-packages is not writeable\n",
      "Requirement already satisfied: llama-index in /Users/wojciechnowak/Library/Python/3.9/lib/python/site-packages (0.10.63)\n",
      "Requirement already satisfied: llama-index-agent-openai<0.3.0,>=0.1.4 in /Users/wojciechnowak/Library/Python/3.9/lib/python/site-packages (from llama-index) (0.2.9)\n",
      "Requirement already satisfied: llama-index-cli<0.2.0,>=0.1.2 in /Users/wojciechnowak/Library/Python/3.9/lib/python/site-packages (from llama-index) (0.1.13)\n",
      "Requirement already satisfied: llama-index-core==0.10.63 in /Users/wojciechnowak/Library/Python/3.9/lib/python/site-packages (from llama-index) (0.10.63)\n",
      "Requirement already satisfied: llama-index-embeddings-openai<0.2.0,>=0.1.5 in /Users/wojciechnowak/Library/Python/3.9/lib/python/site-packages (from llama-index) (0.1.11)\n",
      "Requirement already satisfied: llama-index-indices-managed-llama-cloud>=0.2.0 in /Users/wojciechnowak/Library/Python/3.9/lib/python/site-packages (from llama-index) (0.2.7)\n",
      "Requirement already satisfied: llama-index-legacy<0.10.0,>=0.9.48 in /Users/wojciechnowak/Library/Python/3.9/lib/python/site-packages (from llama-index) (0.9.48)\n",
      "Requirement already satisfied: llama-index-llms-openai<0.2.0,>=0.1.27 in /Users/wojciechnowak/Library/Python/3.9/lib/python/site-packages (from llama-index) (0.1.29)\n",
      "Requirement already satisfied: llama-index-multi-modal-llms-openai<0.2.0,>=0.1.3 in /Users/wojciechnowak/Library/Python/3.9/lib/python/site-packages (from llama-index) (0.1.9)\n",
      "Requirement already satisfied: llama-index-program-openai<0.2.0,>=0.1.3 in /Users/wojciechnowak/Library/Python/3.9/lib/python/site-packages (from llama-index) (0.1.7)\n",
      "Requirement already satisfied: llama-index-question-gen-openai<0.2.0,>=0.1.2 in /Users/wojciechnowak/Library/Python/3.9/lib/python/site-packages (from llama-index) (0.1.3)\n",
      "Requirement already satisfied: llama-index-readers-file<0.2.0,>=0.1.4 in /Users/wojciechnowak/Library/Python/3.9/lib/python/site-packages (from llama-index) (0.1.32)\n",
      "Requirement already satisfied: llama-index-readers-llama-parse>=0.1.2 in /Users/wojciechnowak/Library/Python/3.9/lib/python/site-packages (from llama-index) (0.1.6)\n",
      "Requirement already satisfied: PyYAML>=6.0.1 in /Users/wojciechnowak/Library/Python/3.9/lib/python/site-packages (from llama-index-core==0.10.63->llama-index) (6.0.1)\n",
      "Requirement already satisfied: SQLAlchemy>=1.4.49 in /Users/wojciechnowak/Library/Python/3.9/lib/python/site-packages (from SQLAlchemy[asyncio]>=1.4.49->llama-index-core==0.10.63->llama-index) (2.0.32)\n",
      "Requirement already satisfied: aiohttp<4.0.0,>=3.8.6 in /Users/wojciechnowak/Library/Python/3.9/lib/python/site-packages (from llama-index-core==0.10.63->llama-index) (3.10.2)\n",
      "Requirement already satisfied: dataclasses-json in /Users/wojciechnowak/Library/Python/3.9/lib/python/site-packages (from llama-index-core==0.10.63->llama-index) (0.6.7)\n",
      "Requirement already satisfied: deprecated>=1.2.9.3 in /Users/wojciechnowak/Library/Python/3.9/lib/python/site-packages (from llama-index-core==0.10.63->llama-index) (1.2.14)\n",
      "Requirement already satisfied: dirtyjson<2.0.0,>=1.0.8 in /Users/wojciechnowak/Library/Python/3.9/lib/python/site-packages (from llama-index-core==0.10.63->llama-index) (1.0.8)\n",
      "Requirement already satisfied: fsspec>=2023.5.0 in /Users/wojciechnowak/Library/Python/3.9/lib/python/site-packages (from llama-index-core==0.10.63->llama-index) (2024.5.0)\n",
      "Requirement already satisfied: httpx in /Users/wojciechnowak/Library/Python/3.9/lib/python/site-packages (from llama-index-core==0.10.63->llama-index) (0.27.0)\n",
      "Requirement already satisfied: nest-asyncio<2.0.0,>=1.5.8 in /Users/wojciechnowak/Library/Python/3.9/lib/python/site-packages (from llama-index-core==0.10.63->llama-index) (1.6.0)\n",
      "Requirement already satisfied: networkx>=3.0 in /Users/wojciechnowak/Library/Python/3.9/lib/python/site-packages (from llama-index-core==0.10.63->llama-index) (3.2.1)\n",
      "Requirement already satisfied: nltk<4.0.0,>=3.8.1 in /Users/wojciechnowak/Library/Python/3.9/lib/python/site-packages (from llama-index-core==0.10.63->llama-index) (3.8.1)\n",
      "Requirement already satisfied: numpy<2.0.0 in /Users/wojciechnowak/Library/Python/3.9/lib/python/site-packages (from llama-index-core==0.10.63->llama-index) (1.26.4)\n",
      "Requirement already satisfied: openai>=1.1.0 in /Users/wojciechnowak/Library/Python/3.9/lib/python/site-packages (from llama-index-core==0.10.63->llama-index) (1.40.2)\n",
      "Requirement already satisfied: pandas in /Users/wojciechnowak/Library/Python/3.9/lib/python/site-packages (from llama-index-core==0.10.63->llama-index) (2.2.2)\n",
      "Requirement already satisfied: pillow>=9.0.0 in /Users/wojciechnowak/Library/Python/3.9/lib/python/site-packages (from llama-index-core==0.10.63->llama-index) (10.3.0)\n",
      "Requirement already satisfied: requests>=2.31.0 in /Users/wojciechnowak/Library/Python/3.9/lib/python/site-packages (from llama-index-core==0.10.63->llama-index) (2.31.0)\n",
      "Requirement already satisfied: tenacity!=8.4.0,<9.0.0,>=8.2.0 in /Users/wojciechnowak/Library/Python/3.9/lib/python/site-packages (from llama-index-core==0.10.63->llama-index) (8.5.0)\n",
      "Requirement already satisfied: tiktoken>=0.3.3 in /Users/wojciechnowak/Library/Python/3.9/lib/python/site-packages (from llama-index-core==0.10.63->llama-index) (0.7.0)\n",
      "Requirement already satisfied: tqdm<5.0.0,>=4.66.1 in /Users/wojciechnowak/Library/Python/3.9/lib/python/site-packages (from llama-index-core==0.10.63->llama-index) (4.66.5)\n",
      "Requirement already satisfied: typing-extensions>=4.5.0 in /Users/wojciechnowak/Library/Python/3.9/lib/python/site-packages (from llama-index-core==0.10.63->llama-index) (4.11.0)\n",
      "Requirement already satisfied: typing-inspect>=0.8.0 in /Users/wojciechnowak/Library/Python/3.9/lib/python/site-packages (from llama-index-core==0.10.63->llama-index) (0.9.0)\n",
      "Requirement already satisfied: wrapt in /Users/wojciechnowak/Library/Python/3.9/lib/python/site-packages (from llama-index-core==0.10.63->llama-index) (1.16.0)\n",
      "Requirement already satisfied: llama-cloud>=0.0.11 in /Users/wojciechnowak/Library/Python/3.9/lib/python/site-packages (from llama-index-indices-managed-llama-cloud>=0.2.0->llama-index) (0.0.13)\n",
      "Requirement already satisfied: beautifulsoup4<5.0.0,>=4.12.3 in /Users/wojciechnowak/Library/Python/3.9/lib/python/site-packages (from llama-index-readers-file<0.2.0,>=0.1.4->llama-index) (4.12.3)\n",
      "Requirement already satisfied: pypdf<5.0.0,>=4.0.1 in /Users/wojciechnowak/Library/Python/3.9/lib/python/site-packages (from llama-index-readers-file<0.2.0,>=0.1.4->llama-index) (4.3.1)\n",
      "Requirement already satisfied: striprtf<0.0.27,>=0.0.26 in /Users/wojciechnowak/Library/Python/3.9/lib/python/site-packages (from llama-index-readers-file<0.2.0,>=0.1.4->llama-index) (0.0.26)\n",
      "Requirement already satisfied: llama-parse>=0.4.0 in /Users/wojciechnowak/Library/Python/3.9/lib/python/site-packages (from llama-index-readers-llama-parse>=0.1.2->llama-index) (0.4.9)\n",
      "Requirement already satisfied: aiohappyeyeballs>=2.3.0 in /Users/wojciechnowak/Library/Python/3.9/lib/python/site-packages (from aiohttp<4.0.0,>=3.8.6->llama-index-core==0.10.63->llama-index) (2.3.5)\n",
      "Requirement already satisfied: aiosignal>=1.1.2 in /Users/wojciechnowak/Library/Python/3.9/lib/python/site-packages (from aiohttp<4.0.0,>=3.8.6->llama-index-core==0.10.63->llama-index) (1.3.1)\n",
      "Requirement already satisfied: attrs>=17.3.0 in /Users/wojciechnowak/Library/Python/3.9/lib/python/site-packages (from aiohttp<4.0.0,>=3.8.6->llama-index-core==0.10.63->llama-index) (23.2.0)\n",
      "Requirement already satisfied: frozenlist>=1.1.1 in /Users/wojciechnowak/Library/Python/3.9/lib/python/site-packages (from aiohttp<4.0.0,>=3.8.6->llama-index-core==0.10.63->llama-index) (1.4.1)\n",
      "Requirement already satisfied: multidict<7.0,>=4.5 in /Users/wojciechnowak/Library/Python/3.9/lib/python/site-packages (from aiohttp<4.0.0,>=3.8.6->llama-index-core==0.10.63->llama-index) (6.0.5)\n",
      "Requirement already satisfied: yarl<2.0,>=1.0 in /Users/wojciechnowak/Library/Python/3.9/lib/python/site-packages (from aiohttp<4.0.0,>=3.8.6->llama-index-core==0.10.63->llama-index) (1.9.4)\n",
      "Requirement already satisfied: async-timeout<5.0,>=4.0 in /Users/wojciechnowak/Library/Python/3.9/lib/python/site-packages (from aiohttp<4.0.0,>=3.8.6->llama-index-core==0.10.63->llama-index) (4.0.3)\n",
      "Requirement already satisfied: soupsieve>1.2 in /Users/wojciechnowak/Library/Python/3.9/lib/python/site-packages (from beautifulsoup4<5.0.0,>=4.12.3->llama-index-readers-file<0.2.0,>=0.1.4->llama-index) (2.5)\n",
      "Requirement already satisfied: pydantic>=1.10 in /Users/wojciechnowak/Library/Python/3.9/lib/python/site-packages (from llama-cloud>=0.0.11->llama-index-indices-managed-llama-cloud>=0.2.0->llama-index) (2.8.2)\n",
      "Requirement already satisfied: anyio in /Users/wojciechnowak/Library/Python/3.9/lib/python/site-packages (from httpx->llama-index-core==0.10.63->llama-index) (4.3.0)\n",
      "Requirement already satisfied: certifi in /Users/wojciechnowak/Library/Python/3.9/lib/python/site-packages (from httpx->llama-index-core==0.10.63->llama-index) (2024.2.2)\n",
      "Requirement already satisfied: httpcore==1.* in /Users/wojciechnowak/Library/Python/3.9/lib/python/site-packages (from httpx->llama-index-core==0.10.63->llama-index) (1.0.5)\n",
      "Requirement already satisfied: idna in /Users/wojciechnowak/Library/Python/3.9/lib/python/site-packages (from httpx->llama-index-core==0.10.63->llama-index) (3.7)\n",
      "Requirement already satisfied: sniffio in /Users/wojciechnowak/Library/Python/3.9/lib/python/site-packages (from httpx->llama-index-core==0.10.63->llama-index) (1.3.1)\n",
      "Requirement already satisfied: h11<0.15,>=0.13 in /Users/wojciechnowak/Library/Python/3.9/lib/python/site-packages (from httpcore==1.*->httpx->llama-index-core==0.10.63->llama-index) (0.14.0)\n",
      "Requirement already satisfied: click in /Users/wojciechnowak/Library/Python/3.9/lib/python/site-packages (from nltk<4.0.0,>=3.8.1->llama-index-core==0.10.63->llama-index) (8.1.7)\n",
      "Requirement already satisfied: joblib in /Users/wojciechnowak/Library/Python/3.9/lib/python/site-packages (from nltk<4.0.0,>=3.8.1->llama-index-core==0.10.63->llama-index) (1.4.2)\n",
      "Requirement already satisfied: regex>=2021.8.3 in /Users/wojciechnowak/Library/Python/3.9/lib/python/site-packages (from nltk<4.0.0,>=3.8.1->llama-index-core==0.10.63->llama-index) (2024.7.24)\n",
      "Requirement already satisfied: distro<2,>=1.7.0 in /Users/wojciechnowak/Library/Python/3.9/lib/python/site-packages (from openai>=1.1.0->llama-index-core==0.10.63->llama-index) (1.9.0)\n",
      "Requirement already satisfied: jiter<1,>=0.4.0 in /Users/wojciechnowak/Library/Python/3.9/lib/python/site-packages (from openai>=1.1.0->llama-index-core==0.10.63->llama-index) (0.5.0)\n",
      "Requirement already satisfied: charset-normalizer<4,>=2 in /Users/wojciechnowak/Library/Python/3.9/lib/python/site-packages (from requests>=2.31.0->llama-index-core==0.10.63->llama-index) (3.3.2)\n",
      "Requirement already satisfied: urllib3<3,>=1.21.1 in /Users/wojciechnowak/Library/Python/3.9/lib/python/site-packages (from requests>=2.31.0->llama-index-core==0.10.63->llama-index) (2.2.1)\n",
      "Requirement already satisfied: greenlet!=0.4.17 in /Users/wojciechnowak/Library/Python/3.9/lib/python/site-packages (from SQLAlchemy[asyncio]>=1.4.49->llama-index-core==0.10.63->llama-index) (3.0.3)\n",
      "Requirement already satisfied: mypy-extensions>=0.3.0 in /Users/wojciechnowak/Library/Python/3.9/lib/python/site-packages (from typing-inspect>=0.8.0->llama-index-core==0.10.63->llama-index) (1.0.0)\n",
      "Requirement already satisfied: marshmallow<4.0.0,>=3.18.0 in /Users/wojciechnowak/Library/Python/3.9/lib/python/site-packages (from dataclasses-json->llama-index-core==0.10.63->llama-index) (3.21.3)\n",
      "Requirement already satisfied: python-dateutil>=2.8.2 in /Users/wojciechnowak/Library/Python/3.9/lib/python/site-packages (from pandas->llama-index-core==0.10.63->llama-index) (2.9.0.post0)\n",
      "Requirement already satisfied: pytz>=2020.1 in /Users/wojciechnowak/Library/Python/3.9/lib/python/site-packages (from pandas->llama-index-core==0.10.63->llama-index) (2024.1)\n",
      "Requirement already satisfied: tzdata>=2022.7 in /Users/wojciechnowak/Library/Python/3.9/lib/python/site-packages (from pandas->llama-index-core==0.10.63->llama-index) (2024.1)\n",
      "Requirement already satisfied: exceptiongroup>=1.0.2 in /Users/wojciechnowak/Library/Python/3.9/lib/python/site-packages (from anyio->httpx->llama-index-core==0.10.63->llama-index) (1.2.1)\n",
      "Requirement already satisfied: packaging>=17.0 in /Users/wojciechnowak/Library/Python/3.9/lib/python/site-packages (from marshmallow<4.0.0,>=3.18.0->dataclasses-json->llama-index-core==0.10.63->llama-index) (24.0)\n",
      "Requirement already satisfied: annotated-types>=0.4.0 in /Users/wojciechnowak/Library/Python/3.9/lib/python/site-packages (from pydantic>=1.10->llama-cloud>=0.0.11->llama-index-indices-managed-llama-cloud>=0.2.0->llama-index) (0.7.0)\n",
      "Requirement already satisfied: pydantic-core==2.20.1 in /Users/wojciechnowak/Library/Python/3.9/lib/python/site-packages (from pydantic>=1.10->llama-cloud>=0.0.11->llama-index-indices-managed-llama-cloud>=0.2.0->llama-index) (2.20.1)\n",
      "Requirement already satisfied: six>=1.5 in /Library/Developer/CommandLineTools/Library/Frameworks/Python3.framework/Versions/3.9/lib/python3.9/site-packages (from python-dateutil>=2.8.2->pandas->llama-index-core==0.10.63->llama-index) (1.15.0)\n",
      "\n",
      "\u001b[1m[\u001b[0m\u001b[34;49mnotice\u001b[0m\u001b[1;39;49m]\u001b[0m\u001b[39;49m A new release of pip is available: \u001b[0m\u001b[31;49m24.0\u001b[0m\u001b[39;49m -> \u001b[0m\u001b[32;49m24.2\u001b[0m\n",
      "\u001b[1m[\u001b[0m\u001b[34;49mnotice\u001b[0m\u001b[1;39;49m]\u001b[0m\u001b[39;49m To update, run: \u001b[0m\u001b[32;49m/Library/Developer/CommandLineTools/usr/bin/python3 -m pip install --upgrade pip\u001b[0m\n"
     ]
    }
   ],
   "source": [
    "!pip install openai\n",
    "!pip install python-dotenv\n",
    "!pip install llama-index"
   ]
  },
  {
   "cell_type": "markdown",
   "id": "46afd7b2-855b-449b-b4d4-8cc0744a5c11",
   "metadata": {},
   "source": [
    "# Quick start with Llamaindex Agents"
   ]
  },
  {
   "cell_type": "markdown",
   "id": "5b7c8405-3889-411e-8709-606f337ff8eb",
   "metadata": {},
   "source": [
    "### Based on LLamaindex documentation: [click](https://docs.llamaindex.ai/en/stable/understanding/agent/basic_agent/)"
   ]
  },
  {
   "cell_type": "code",
   "execution_count": 41,
   "id": "9720231c-4214-4086-8225-54d4af4cf475",
   "metadata": {},
   "outputs": [],
   "source": [
    "import os\n",
    "import json\n",
    "import requests\n",
    "from dotenv import dotenv_values"
   ]
  },
  {
   "cell_type": "code",
   "execution_count": 42,
   "id": "da26ddf2-efae-4ab7-b73d-6d949624fb29",
   "metadata": {},
   "outputs": [],
   "source": [
    "secrets = dotenv_values(\".env\")\n",
    "os.environ[\"OPENAI_API_KEY\"] = secrets[\"OPENAI_API_KEY\"]"
   ]
  },
  {
   "cell_type": "markdown",
   "id": "6aca56c4-db29-45ca-995a-7df6e4b718af",
   "metadata": {},
   "source": [
    "### Tools creation"
   ]
  },
  {
   "cell_type": "code",
   "execution_count": 43,
   "id": "cbdf6e89-8035-4c6d-ad38-9c4e53c7f85f",
   "metadata": {},
   "outputs": [],
   "source": [
    "def multiply(a: int, b: int) -> int:\n",
    "    \"\"\"Multiply two integers and returns the result integer\"\"\"\n",
    "    return a * b\n",
    "\n",
    "def add(a: int, b: int) -> int:\n",
    "    \"\"\"Add two integers and returns the result integer\"\"\"\n",
    "    return a + b\n",
    "\n",
    "def subtract(a: int, b: int) -> int:\n",
    "    \"\"\"Subtract two integers and returns the result integer\"\"\"\n",
    "    return a - b"
   ]
  },
  {
   "cell_type": "code",
   "execution_count": 44,
   "id": "e1e09372-c88d-4687-bf0d-eddeec47b639",
   "metadata": {},
   "outputs": [],
   "source": [
    "from llama_index.core.tools import FunctionTool\n",
    "\n",
    "# Define a tools from functions\n",
    "\n",
    "multiply_tool = FunctionTool.from_defaults(fn=multiply)\n",
    "add_tool = FunctionTool.from_defaults(fn=add)\n",
    "subtract_tool = FunctionTool.from_defaults(fn=subtract)\n",
    "\n",
    "# Create a list of tools to be used by agent\n",
    "tools = [multiply_tool, add_tool, subtract_tool]"
   ]
  },
  {
   "cell_type": "markdown",
   "id": "36001eaa-d18a-4a4d-96a6-6c2b98d2e703",
   "metadata": {},
   "source": [
    "### Create an Agent"
   ]
  },
  {
   "cell_type": "code",
   "execution_count": 45,
   "id": "760035ee-38d5-414f-8e87-c655fe144034",
   "metadata": {},
   "outputs": [],
   "source": [
    "from llama_index.llms.openai import OpenAI\n",
    "from llama_index.agent.openai import OpenAIAgent\n",
    "\n",
    "# Create LLM client\n",
    "llm = OpenAI(model=\"gpt-4o\")\n",
    "\n",
    "# Create OpenAIAgent \n",
    "agent = OpenAIAgent.from_tools(tools, llm=llm, verbose=True)"
   ]
  },
  {
   "cell_type": "code",
   "execution_count": 51,
   "id": "45809e40-9d60-460f-8851-24b59cc003b4",
   "metadata": {},
   "outputs": [
    {
     "name": "stdout",
     "output_type": "stream",
     "text": [
      "Added user message to memory: What is the result: 20 + 4 * 2\n",
      "=== Calling Function ===\n",
      "Calling function: multiply with args: {\"a\": 4, \"b\": 2}\n",
      "Got output: 8\n",
      "========================\n",
      "\n",
      "=== Calling Function ===\n",
      "Calling function: add with args: {\"a\": 20, \"b\": 8}\n",
      "Got output: 28\n",
      "========================\n",
      "\n"
     ]
    }
   ],
   "source": [
    "output = agent.chat(\"What is the result: 20 + 4 * 2\")"
   ]
  },
  {
   "cell_type": "code",
   "execution_count": 52,
   "id": "115a7d01-6adf-457b-af15-98a46f19af98",
   "metadata": {},
   "outputs": [
    {
     "data": {
      "text/plain": [
       "'The result of the expression \\\\(20 + 4 \\\\times 2\\\\) is \\\\(28\\\\).'"
      ]
     },
     "execution_count": 52,
     "metadata": {},
     "output_type": "execute_result"
    }
   ],
   "source": [
    "output.response"
   ]
  },
  {
   "cell_type": "code",
   "execution_count": null,
   "id": "45ee5889-385c-4172-beed-0d4df8e74421",
   "metadata": {},
   "outputs": [],
   "source": [
    "### TODO Add weather checking logic"
   ]
  },
  {
   "cell_type": "code",
   "execution_count": 46,
   "id": "f4fa32bf-7a4b-4530-8249-8f3a3b1ba023",
   "metadata": {},
   "outputs": [
    {
     "name": "stdout",
     "output_type": "stream",
     "text": [
      "Added user message to memory: What is the weather in Stockholm?\n"
     ]
    },
    {
     "data": {
      "text/plain": [
       "AgentChatResponse(response=\"I currently don't have access to real-time data, including weather updates. You can check the latest weather information for Stockholm on a weather website or app.\", sources=[], source_nodes=[], is_dummy_stream=False, metadata=None)"
      ]
     },
     "execution_count": 46,
     "metadata": {},
     "output_type": "execute_result"
    }
   ],
   "source": [
    "agent.chat(\"What is the weather in Stockholm?\")"
   ]
  },
  {
   "cell_type": "code",
   "execution_count": 47,
   "id": "fd50cefd-530e-4f5c-8d0d-355492fff934",
   "metadata": {},
   "outputs": [
    {
     "name": "stdout",
     "output_type": "stream",
     "text": [
      "Added user message to memory: What is the weather sunnier in Stockholm than in Paris?\n"
     ]
    },
    {
     "data": {
      "text/plain": [
       "AgentChatResponse(response=\"I currently don't have access to real-time weather data to compare the weather conditions in Stockholm and Paris. For the most accurate and up-to-date weather information, please check a reliable weather website or app for both cities.\", sources=[], source_nodes=[], is_dummy_stream=False, metadata=None)"
      ]
     },
     "execution_count": 47,
     "metadata": {},
     "output_type": "execute_result"
    }
   ],
   "source": [
    "agent.chat(\"What is the weather sunnier in Stockholm than in Paris?\")"
   ]
  },
  {
   "cell_type": "code",
   "execution_count": 48,
   "id": "ea7be05b-a9d9-4a48-a5f6-8688f8ec381b",
   "metadata": {},
   "outputs": [
    {
     "name": "stdout",
     "output_type": "stream",
     "text": [
      "Added user message to memory: Give me the weather in 3 europe largest cities?\n"
     ]
    },
    {
     "data": {
      "text/plain": [
       "AgentChatResponse(response=\"I currently don't have access to real-time weather data. For the most accurate and up-to-date weather information, please check a reliable weather website or app for the largest cities in Europe, such as Moscow, London, and Berlin.\", sources=[], source_nodes=[], is_dummy_stream=False, metadata=None)"
      ]
     },
     "execution_count": 48,
     "metadata": {},
     "output_type": "execute_result"
    }
   ],
   "source": [
    "agent.chat(\"Give me the weather in 3 europe largest cities?\")"
   ]
  },
  {
   "cell_type": "markdown",
   "id": "6b537109-9bb2-4772-9d5d-ff818bb00b9b",
   "metadata": {},
   "source": [
    "# Deep dive into Llamaindex API"
   ]
  },
  {
   "cell_type": "markdown",
   "id": "838bb41e-71d6-4421-bcdc-58e35e2e657d",
   "metadata": {},
   "source": [
    "### Tool creation with High Level API"
   ]
  },
  {
   "cell_type": "code",
   "execution_count": 4,
   "id": "c779ebb3-3965-4a3c-8833-f23ed0385978",
   "metadata": {},
   "outputs": [],
   "source": [
    "from typing import Any, Type\n",
    "from typing import cast\n",
    "from llama_index.core.types import Model\n",
    "from llama_index.core.bridge.pydantic import BaseModel\n",
    "\n",
    "## High level FunctionTool API\n",
    "def get_weather(city: str):\n",
    "    \"\"\"Calls open weather api to get weather in given city\"\"\"\n",
    "    url = \"\"\"https://api.openweathermap.org/data/2.5/weather?q={}&appid={}&units=metric\"\"\".format(city, secrets[\"OPEN_WEATHER_API_KEY\"])\n",
    "    response = requests.get(url)\n",
    "\n",
    "    if response.status_code != 200:\n",
    "        raise Exception(\"An error has occured, code: {}, reason: {}\".format(response.status_code, response.reason))\n",
    "    data_dict = response.json()\n",
    "\n",
    "    return json.dumps({\n",
    "        \"city\": data_dict['name'],\n",
    "        \"weather\": data_dict['weather'][0]['description'],\n",
    "        \"temperature\": data_dict['main']['temp'],\n",
    "        \"unit\": \"Celsius\"\n",
    "    })"
   ]
  },
  {
   "cell_type": "code",
   "execution_count": 5,
   "id": "50be301c-52cc-4a12-8bd3-b5636a5d4615",
   "metadata": {},
   "outputs": [],
   "source": [
    "weather_tool = FunctionTool.from_defaults(fn=get_weather)"
   ]
  },
  {
   "cell_type": "markdown",
   "id": "6940c372-22b1-484d-b6ab-26f0965d0824",
   "metadata": {},
   "source": [
    "### Tool created with Low Level API"
   ]
  },
  {
   "cell_type": "code",
   "execution_count": 6,
   "id": "4908ae46-da3a-47a4-a548-f0a9d73803c4",
   "metadata": {},
   "outputs": [],
   "source": [
    "from typing import Any, Type\n",
    "\n",
    "from llama_index.core.types import Model\n",
    "from llama_index.core.tools import ToolMetadata, ToolOutput\n",
    "from llama_index.core.tools.types import BaseTool\n",
    "from llama_index.core.bridge.pydantic import BaseModel\n",
    "\n",
    "# Low level BaseTool API\n",
    "class PydanticOutputTool(BaseTool):\n",
    "\n",
    "    @staticmethod\n",
    "    def mk_metadata(output_cls) -> ToolMetadata:\n",
    "        name = \"pydantic_output_tool\"\n",
    "        description = (\n",
    "            \"Use this tool to provide structured output\"\n",
    "        )\n",
    "\n",
    "        return ToolMetadata(\n",
    "            name=name,\n",
    "            description=description,\n",
    "            fn_schema=output_cls\n",
    "        )\n",
    "\n",
    "    def __init__(self, output_cls: Type[Model]):\n",
    "        self._output_cls = output_cls\n",
    "\n",
    "        fn_schema = output_cls,\n",
    "        def model_fn(**kwargs: Any) -> BaseModel:\n",
    "            \"\"\"Model function.\"\"\"\n",
    "            return self._output_cls(**kwargs)\n",
    "        self._fn = model_fn\n",
    "        self._metadata = self.mk_metadata(output_cls=self._output_cls)\n",
    "\n",
    "\n",
    "    def __call__(self, *args: Any, **kwargs: Any) -> ToolOutput:\n",
    "        tool_output = self._fn(**kwargs)\n",
    "\n",
    "        return ToolOutput(\n",
    "            content=str(tool_output),\n",
    "            tool_name=self.metadata.name,\n",
    "            raw_input={\"args\": args, \"kwargs\": kwargs},\n",
    "            raw_output=tool_output,\n",
    "        )\n",
    "\n",
    "    @property\n",
    "    def metadata(self) -> ToolMetadata:\n",
    "        \"\"\"Metadata.\"\"\"\n",
    "        return self._metadata\n",
    "\n",
    "## Based on: https://github.com/run-llama/llama_index/blob/main/llama-index-core/llama_index/core/program/function_program.py"
   ]
  },
  {
   "cell_type": "code",
   "execution_count": 7,
   "id": "fbbb9d4b-ff50-4748-ace6-e92b7227ec42",
   "metadata": {},
   "outputs": [],
   "source": [
    "# Define container for weather data\n",
    "class WeatherDetails(BaseModel):\n",
    "    value: str\n",
    "    unit: str\n",
    "    description: str\n",
    "    city: str\n",
    "\n",
    "# Init tool for making data structured\n",
    "pydantic_output_tool = PydanticOutputTool(WeatherDetails)"
   ]
  },
  {
   "cell_type": "markdown",
   "id": "9b3081c5-baf0-466c-a12d-4b3d5772a502",
   "metadata": {},
   "source": [
    "### Create an Agent"
   ]
  },
  {
   "cell_type": "code",
   "execution_count": 10,
   "id": "247024dd-b768-4085-ae00-12ad845e5efe",
   "metadata": {},
   "outputs": [],
   "source": [
    "from llama_index.llms.openai import OpenAI\n",
    "from llama_index.agent.openai import OpenAIAgent\n",
    "\n",
    "# Create LLM client\n",
    "llm = OpenAI(model=\"gpt-4o\")\n",
    "\n",
    "# Create a list of tools to be used by agent\n",
    "tools = [weather_tool, pydantic_output_tool]\n",
    "\n",
    "# Create OpenAIAgent \n",
    "agent = OpenAIAgent.from_tools(tools, llm=llm, verbose=True)"
   ]
  },
  {
   "cell_type": "markdown",
   "id": "a25d32df-ff28-4686-a2f2-b774a5d6c3e8",
   "metadata": {},
   "source": [
    "### Call an Agent"
   ]
  },
  {
   "cell_type": "code",
   "execution_count": 28,
   "id": "232e933b-973a-44f6-8c76-d99f6412c119",
   "metadata": {},
   "outputs": [
    {
     "name": "stdout",
     "output_type": "stream",
     "text": [
      "Added user message to memory: What is the weather is Paris? Please provide structured response\n",
      "=== Calling Function ===\n",
      "Calling function: get_weather with args: {\"city\":\"Paris\"}\n",
      "Got output: {\"city\": \"Paris\", \"weather\": \"scattered clouds\", \"temperature\": 14.01, \"unit\": \"Celsius\"}\n",
      "========================\n",
      "\n",
      "=== Calling Function ===\n",
      "Calling function: pydantic_output_tool with args: {\"value\":\"14.01\",\"unit\":\"Celsius\",\"description\":\"scattered clouds\",\"city\":\"Paris\"}\n",
      "Got output: value='14.01' unit='Celsius' description='scattered clouds' city='Paris'\n",
      "========================\n",
      "\n"
     ]
    }
   ],
   "source": [
    "output = agent.chat(\"What is the weather is Paris? Please provide structured response\")"
   ]
  },
  {
   "cell_type": "markdown",
   "id": "1a10396a-48a8-4bd5-8190-950b6208bc1a",
   "metadata": {},
   "source": [
    "### Examine the output"
   ]
  },
  {
   "cell_type": "code",
   "execution_count": 29,
   "id": "9d7846af-05c9-426a-991a-1153d4e2469b",
   "metadata": {},
   "outputs": [
    {
     "data": {
      "text/plain": [
       "AgentChatResponse(response='The weather in Paris is currently 14.01°C with scattered clouds.', sources=[ToolOutput(content='{\"city\": \"Paris\", \"weather\": \"scattered clouds\", \"temperature\": 14.01, \"unit\": \"Celsius\"}', tool_name='get_weather', raw_input={'args': (), 'kwargs': {'city': 'Paris'}}, raw_output='{\"city\": \"Paris\", \"weather\": \"scattered clouds\", \"temperature\": 14.01, \"unit\": \"Celsius\"}', is_error=False), ToolOutput(content=\"value='14.01' unit='Celsius' description='scattered clouds' city='Paris'\", tool_name='pydantic_output_tool', raw_input={'args': (), 'kwargs': {'value': '14.01', 'unit': 'Celsius', 'description': 'scattered clouds', 'city': 'Paris'}}, raw_output=WeatherDetails(value='14.01', unit='Celsius', description='scattered clouds', city='Paris'), is_error=False)], source_nodes=[], is_dummy_stream=False, metadata=None)"
      ]
     },
     "execution_count": 29,
     "metadata": {},
     "output_type": "execute_result"
    }
   ],
   "source": [
    "output"
   ]
  },
  {
   "cell_type": "code",
   "execution_count": 12,
   "id": "fbea712d-5216-4849-82ec-5bd698018fd8",
   "metadata": {},
   "outputs": [
    {
     "data": {
      "text/plain": [
       "'The weather in Paris is currently 14.01°C with scattered clouds.'"
      ]
     },
     "execution_count": 12,
     "metadata": {},
     "output_type": "execute_result"
    }
   ],
   "source": [
    "output.response"
   ]
  },
  {
   "cell_type": "code",
   "execution_count": 23,
   "id": "3fd2dc4e-725a-4d45-8f3e-7446de857615",
   "metadata": {},
   "outputs": [
    {
     "data": {
      "text/plain": [
       "[ToolOutput(content='{\"city\": \"Paris\", \"weather\": \"scattered clouds\", \"temperature\": 14.01, \"unit\": \"Celsius\"}', tool_name='get_weather', raw_input={'args': (), 'kwargs': {'city': 'Paris'}}, raw_output='{\"city\": \"Paris\", \"weather\": \"scattered clouds\", \"temperature\": 14.01, \"unit\": \"Celsius\"}', is_error=False),\n",
       " ToolOutput(content=\"value='14.01' unit='Celsius' description='scattered clouds' city='Paris'\", tool_name='pydantic_output_tool', raw_input={'args': (), 'kwargs': {'value': '14.01', 'unit': 'Celsius', 'description': 'scattered clouds', 'city': 'Paris'}}, raw_output=WeatherDetails(value='14.01', unit='Celsius', description='scattered clouds', city='Paris'), is_error=False)]"
      ]
     },
     "execution_count": 23,
     "metadata": {},
     "output_type": "execute_result"
    }
   ],
   "source": [
    "output.sources"
   ]
  },
  {
   "cell_type": "code",
   "execution_count": 27,
   "id": "98b9dfb2-e108-4712-b8ed-356cf5d4ff95",
   "metadata": {},
   "outputs": [
    {
     "data": {
      "text/plain": [
       "WeatherDetails(value='14.01', unit='Celsius', description='scattered clouds', city='Paris')"
      ]
     },
     "execution_count": 27,
     "metadata": {},
     "output_type": "execute_result"
    }
   ],
   "source": [
    "output.sources[-1].raw_output"
   ]
  },
  {
   "cell_type": "markdown",
   "id": "09c782df-4bc0-4420-9c14-de46b9dcc9cd",
   "metadata": {},
   "source": [
    "### Others"
   ]
  },
  {
   "cell_type": "code",
   "execution_count": 33,
   "id": "9275809b-13c9-4333-9417-a0cf5d16188d",
   "metadata": {},
   "outputs": [],
   "source": [
    "def get_stock_price(symbol: str):\n",
    "    url = \"\"\"https://api.polygon.io/v2/aggs/ticker/{}/prev?adjusted=true&apiKey={}\"\"\".format(symbol, secrets[\"POLYGLON_API_KEY\"])\n",
    "    response = requests.get(url)\n",
    "\n",
    "    if response.status_code != 200:\n",
    "        raise Exception(\"An error has occured, code: {}, reason: {}\".format(response.status_code, response.reason))\n",
    "    data_dict = response.json()\n",
    "    return json.dumps({\n",
    "        \"ticker\": data_dict['results'][0]['T'],\n",
    "        \"price\": data_dict['results'][0]['c']\n",
    "    })\n",
    "    return data_dict['results'][0]['T'], data_dict['results'][0]['c']"
   ]
  },
  {
   "cell_type": "code",
   "execution_count": null,
   "id": "c1e48c23-6b41-4169-b7e4-abd096edf54f",
   "metadata": {},
   "outputs": [],
   "source": []
  }
 ],
 "metadata": {
  "kernelspec": {
   "display_name": "Python 3 (ipykernel)",
   "language": "python",
   "name": "python3"
  },
  "language_info": {
   "codemirror_mode": {
    "name": "ipython",
    "version": 3
   },
   "file_extension": ".py",
   "mimetype": "text/x-python",
   "name": "python",
   "nbconvert_exporter": "python",
   "pygments_lexer": "ipython3",
   "version": "3.9.6"
  }
 },
 "nbformat": 4,
 "nbformat_minor": 5
}
